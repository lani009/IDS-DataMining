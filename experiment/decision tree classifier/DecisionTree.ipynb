{
 "cells": [
  {
   "cell_type": "code",
   "execution_count": 1,
   "metadata": {},
   "outputs": [
    {
     "name": "stdout",
     "output_type": "stream",
     "text": [
      "<class 'pandas.core.frame.DataFrame'>\n",
      "RangeIndex: 25192 entries, 0 to 25191\n",
      "Data columns (total 40 columns):\n",
      " #   Column                       Non-Null Count  Dtype  \n",
      "---  ------                       --------------  -----  \n",
      " 0   duration                     25192 non-null  int64  \n",
      " 1   protocol_type                25192 non-null  int64  \n",
      " 2   service                      25192 non-null  int64  \n",
      " 3   flag                         25192 non-null  int64  \n",
      " 4   src_bytes                    25192 non-null  int64  \n",
      " 5   dst_bytes                    25192 non-null  int64  \n",
      " 6   land                         25192 non-null  int64  \n",
      " 7   wrong_fragment               25192 non-null  int64  \n",
      " 8   hot                          25192 non-null  int64  \n",
      " 9   num_failed_logins            25192 non-null  int64  \n",
      " 10  logged_in                    25192 non-null  int64  \n",
      " 11  num_compromised              25192 non-null  int64  \n",
      " 12  root_shell                   25192 non-null  int64  \n",
      " 13  su_attempted                 25192 non-null  int64  \n",
      " 14  num_root                     25192 non-null  int64  \n",
      " 15  num_file_creations           25192 non-null  int64  \n",
      " 16  num_shells                   25192 non-null  int64  \n",
      " 17  num_access_files             25192 non-null  int64  \n",
      " 18  is_guest_login               25192 non-null  int64  \n",
      " 19  count                        25192 non-null  int64  \n",
      " 20  srv_count                    25192 non-null  int64  \n",
      " 21  serror_rate                  25192 non-null  float64\n",
      " 22  srv_serror_rate              25192 non-null  float64\n",
      " 23  rerror_rate                  25192 non-null  float64\n",
      " 24  srv_rerror_rate              25192 non-null  float64\n",
      " 25  same_srv_rate                25192 non-null  float64\n",
      " 26  diff_srv_rate                25192 non-null  float64\n",
      " 27  srv_diff_host_rate           25192 non-null  float64\n",
      " 28  dst_host_count               25192 non-null  int64  \n",
      " 29  dst_host_srv_count           25192 non-null  int64  \n",
      " 30  dst_host_same_srv_rate       25192 non-null  float64\n",
      " 31  dst_host_diff_srv_rate       25192 non-null  float64\n",
      " 32  dst_host_same_src_port_rate  25192 non-null  float64\n",
      " 33  dst_host_srv_diff_host_rate  25192 non-null  float64\n",
      " 34  dst_host_serror_rate         25192 non-null  float64\n",
      " 35  dst_host_srv_serror_rate     25192 non-null  float64\n",
      " 36  dst_host_rerror_rate         25192 non-null  float64\n",
      " 37  dst_host_srv_rerror_rate     25192 non-null  float64\n",
      " 38  class                        25192 non-null  int64  \n",
      " 39  index_num                    25192 non-null  int64  \n",
      "dtypes: float64(15), int64(25)\n",
      "memory usage: 7.7 MB\n"
     ]
    }
   ],
   "source": [
    "from sklearn import tree\n",
    "from sklearn.model_selection import train_test_split\n",
    "import numpy as np \n",
    "import pandas as pd\n",
    "\n",
    "\n",
    "df = pd.read_csv(\"../../dataset/DM_data.csv\")\n",
    "\n",
    "df.info()"
   ]
  },
  {
   "cell_type": "code",
   "execution_count": 2,
   "metadata": {},
   "outputs": [
    {
     "name": "stdout",
     "output_type": "stream",
     "text": [
      "<class 'pandas.core.frame.DataFrame'>\n",
      "RangeIndex: 20153 entries, 0 to 20152\n",
      "Data columns (total 38 columns):\n",
      " #   Column                       Non-Null Count  Dtype  \n",
      "---  ------                       --------------  -----  \n",
      " 0   duration                     20153 non-null  int64  \n",
      " 1   protocol_type                20153 non-null  int64  \n",
      " 2   service                      20153 non-null  int64  \n",
      " 3   flag                         20153 non-null  int64  \n",
      " 4   src_bytes                    20153 non-null  int64  \n",
      " 5   dst_bytes                    20153 non-null  int64  \n",
      " 6   land                         20153 non-null  int64  \n",
      " 7   wrong_fragment               20153 non-null  int64  \n",
      " 8   hot                          20153 non-null  int64  \n",
      " 9   num_failed_logins            20153 non-null  int64  \n",
      " 10  logged_in                    20153 non-null  int64  \n",
      " 11  num_compromised              20153 non-null  int64  \n",
      " 12  root_shell                   20153 non-null  int64  \n",
      " 13  su_attempted                 20153 non-null  int64  \n",
      " 14  num_root                     20153 non-null  int64  \n",
      " 15  num_file_creations           20153 non-null  int64  \n",
      " 16  num_shells                   20153 non-null  int64  \n",
      " 17  num_access_files             20153 non-null  int64  \n",
      " 18  is_guest_login               20153 non-null  int64  \n",
      " 19  count                        20153 non-null  int64  \n",
      " 20  srv_count                    20153 non-null  int64  \n",
      " 21  serror_rate                  20153 non-null  float64\n",
      " 22  srv_serror_rate              20153 non-null  float64\n",
      " 23  rerror_rate                  20153 non-null  float64\n",
      " 24  srv_rerror_rate              20153 non-null  float64\n",
      " 25  same_srv_rate                20153 non-null  float64\n",
      " 26  diff_srv_rate                20153 non-null  float64\n",
      " 27  srv_diff_host_rate           20153 non-null  float64\n",
      " 28  dst_host_count               20153 non-null  int64  \n",
      " 29  dst_host_srv_count           20153 non-null  int64  \n",
      " 30  dst_host_same_srv_rate       20153 non-null  float64\n",
      " 31  dst_host_diff_srv_rate       20153 non-null  float64\n",
      " 32  dst_host_same_src_port_rate  20153 non-null  float64\n",
      " 33  dst_host_srv_diff_host_rate  20153 non-null  float64\n",
      " 34  dst_host_serror_rate         20153 non-null  float64\n",
      " 35  dst_host_srv_serror_rate     20153 non-null  float64\n",
      " 36  dst_host_rerror_rate         20153 non-null  float64\n",
      " 37  dst_host_srv_rerror_rate     20153 non-null  float64\n",
      "dtypes: float64(15), int64(23)\n",
      "memory usage: 5.8 MB\n"
     ]
    }
   ],
   "source": [
    "X, y = df.drop(columns=[\"class\", \"index_num\"]), df['class']\n",
    "X_train, X_test, y_train, y_test = train_test_split(X, y, test_size=0.2, shuffle=True, random_state=42)\n",
    "X_train.reset_index(drop=True, inplace=True)\n",
    "X_test.reset_index(drop=True, inplace=True)\n",
    "y_train.reset_index(drop=True, inplace=True)\n",
    "X_test.reset_index(drop=True, inplace=True)\n",
    "\n",
    "X_train.info()"
   ]
  },
  {
   "cell_type": "code",
   "execution_count": 3,
   "metadata": {},
   "outputs": [
    {
     "name": "stdout",
     "output_type": "stream",
     "text": [
      "Shape of X_train: (20153, 38)\n",
      "Shape of X_test: (5039, 38)\n",
      "Shape of y_train: (20153,)\n",
      "Shape of y_test: (5039,)\n"
     ]
    }
   ],
   "source": [
    "print(f\"Shape of X_train: {X_train.shape}\\nShape of X_test: {X_test.shape}\")\n",
    "print(f\"Shape of y_train: {y_train.shape}\\nShape of y_test: {y_test.shape}\")"
   ]
  },
  {
   "cell_type": "code",
   "execution_count": 4,
   "metadata": {},
   "outputs": [],
   "source": [
    "clf1 = tree.DecisionTreeClassifier()\n",
    "clf1 = clf1.fit(X_train, y_train)"
   ]
  },
  {
   "cell_type": "code",
   "execution_count": 5,
   "metadata": {},
   "outputs": [],
   "source": [
    "from IPython import display\n",
    "import graphviz\n",
    "import os\n",
    "\n",
    "os.environ[\"PATH\"] += os.pathsep + 'C:\\\\Users\\\\s\\\\anaconda3\\\\pkgs\\\\graphviz-2.38-hfd603c8_2\\\\Library\\\\bin\\\\graphviz' \n",
    "# 시각화\n",
    "dot_data1 = tree.export_graphviz(clf1,\n",
    "                               out_file = None,\n",
    "                               feature_names = X_train.columns,\n",
    "                               class_names = [\"0\", \"1\"],\n",
    "                               filled = True,\n",
    "                               rounded = True,\n",
    "                               special_characters = True)\n",
    "\n",
    "graph1 = graphviz.Source(dot_data1)"
   ]
  },
  {
   "cell_type": "code",
   "execution_count": 6,
   "metadata": {},
   "outputs": [],
   "source": [
    "clf2 = tree.DecisionTreeClassifier(criterion = \"entropy\")\n",
    "clf2 = clf2.fit(X_train, y_train)"
   ]
  },
  {
   "cell_type": "code",
   "execution_count": 7,
   "metadata": {},
   "outputs": [],
   "source": [
    "dot_data2 = tree.export_graphviz(clf2,\n",
    "                               out_file = None,\n",
    "                               feature_names = X_train.columns,\n",
    "                               class_names = [\"0\", \"1\"],\n",
    "                               filled = True,\n",
    "                               rounded = True,\n",
    "                               special_characters = True)\n",
    "\n",
    "graph2 = graphviz.Source(dot_data2)\n",
    "#graph2"
   ]
  },
  {
   "cell_type": "code",
   "execution_count": 8,
   "metadata": {},
   "outputs": [],
   "source": [
    "clf1_y_pred = clf1.predict(X_test)\n",
    "clf2_y_pred = clf2.predict(X_test)"
   ]
  },
  {
   "cell_type": "code",
   "execution_count": 9,
   "metadata": {},
   "outputs": [
    {
     "data": {
      "text/plain": [
       "(0.9941052631578947, 0.99830866807611, 0.9962025316455696, None)"
      ]
     },
     "execution_count": 9,
     "metadata": {},
     "output_type": "execute_result"
    }
   ],
   "source": [
    "from sklearn.metrics import precision_recall_fscore_support\n",
    "\n",
    "precision_recall_fscore_support(y_test, clf1_y_pred, average=\"binary\")"
   ]
  },
  {
   "cell_type": "code",
   "execution_count": 10,
   "metadata": {},
   "outputs": [
    {
     "data": {
      "text/plain": [
       "(0.9957805907172996, 0.9978858350951374, 0.996832101372756, None)"
      ]
     },
     "execution_count": 10,
     "metadata": {},
     "output_type": "execute_result"
    }
   ],
   "source": [
    "precision_recall_fscore_support(y_test, clf2_y_pred, average=\"binary\")"
   ]
  },
  {
   "cell_type": "code",
   "execution_count": 13,
   "metadata": {},
   "outputs": [
    {
     "data": {
      "image/png": "[encoded data removed]",
      "text/plain": [
       "<Figure size 432x288 with 1 Axes>"
      ]
     },
     "metadata": {
      "needs_background": "light"
     },
     "output_type": "display_data"
    }
   ],
   "source": [
    "from sklearn.metrics import roc_curve\n",
    "import matplotlib.pyplot as plt\n",
    "\n",
    "def plot_roc_curve(fper, tper):\n",
    "    plt.plot(fper, tper, color='red', label='ROC')\n",
    "    plt.plot([0, 1], [0, 1], color='green', linestyle='--')\n",
    "    plt.xlabel('False Positive Rate')\n",
    "    plt.ylabel('True Positive Rate')\n",
    "    plt.title('Receiver Operating Characteristic Curve')\n",
    "    plt.legend()\n",
    "    plt.show()\n",
    "    \n",
    "\n",
    "prob = clf2.predict_proba(X_test)\n",
    "prob = prob[:, 1]\n",
    "fper, tper, thresholds = roc_curve(y_test, prob)\n",
    "plot_roc_curve(fper, tper)"
   ]
  },
  {
   "cell_type": "code",
   "execution_count": null,
   "metadata": {},
   "outputs": [],
   "source": []
  }
 ],
 "metadata": {
  "interpreter": {
   "hash": "201ef9045d1e569690d4ef19acedf47659d611d6c0ceca4c00974770fb24d6e6"
  },
  "kernelspec": {
   "display_name": "Python 3.8.5 64-bit ('base': conda)",
   "name": "python3"
  },
  "language_info": {
   "codemirror_mode": {
    "name": "ipython",
    "version": 3
   },
   "file_extension": ".py",
   "mimetype": "text/x-python",
   "name": "python",
   "nbconvert_exporter": "python",
   "pygments_lexer": "ipython3",
   "version": "3.8.5"
  },
  "orig_nbformat": 4
 },
 "nbformat": 4,
 "nbformat_minor": 2
}
